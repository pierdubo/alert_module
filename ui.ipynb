{
 "cells": [
  {
   "cell_type": "code",
   "execution_count": null,
   "id": "46edc255-d8e0-4ee8-a6ca-ada55c2dde56",
   "metadata": {
    "tags": []
   },
   "outputs": [],
   "source": [
    "from sepal_ui.scripts.utils import init_ee\n",
    "init_ee()\n",
    "from sepal_ui import sepalwidgets as sw\n",
    "\n",
    "from component.message import cm\n",
    "from component import tile"
   ]
  },
  {
   "cell_type": "code",
   "execution_count": null,
   "id": "9b0d17d0-951d-44e3-a9bb-d4b9850c4509",
   "metadata": {
    "tags": []
   },
   "outputs": [],
   "source": [
    "# create the app bar\n",
    "app_bar = sw.AppBar(cm.app.title, translator=cm)"
   ]
  },
  {
   "cell_type": "code",
   "execution_count": null,
   "id": "effff0d8-fd12-45bd-a594-4e2c117caf2a",
   "metadata": {
    "tags": []
   },
   "outputs": [],
   "source": [
    "# build the app\n",
    "sw.App(tiles=[tile.MapTile()], appBar=app_bar).show_tile(\"map_tile\")"
   ]
  }
 ],
 "metadata": {
  "kernelspec": {
   "display_name": " (venv) alert_module",
   "language": "python",
   "name": "venv-alert_module"
  },
  "language_info": {
   "codemirror_mode": {
    "name": "ipython",
    "version": 3
   },
   "file_extension": ".py",
   "mimetype": "text/x-python",
   "name": "python",
   "nbconvert_exporter": "python",
   "pygments_lexer": "ipython3",
   "version": "3.10.12"
  },
  "title": "Alert module"
 },
 "nbformat": 4,
 "nbformat_minor": 5
}
